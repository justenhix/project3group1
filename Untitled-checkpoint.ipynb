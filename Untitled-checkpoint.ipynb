{
 "cells": [
  {
   "cell_type": "code",
   "execution_count": 1,
   "id": "c92755e5-b2ae-45e9-99b4-95b2cc6b1c43",
   "metadata": {},
   "outputs": [],
   "source": [
    "# Dependancies\n",
    "import requests\n",
    "import json\n",
    "from pprint import pprint\n",
    "#from config import api_key"
   ]
  },
  {
   "cell_type": "code",
   "execution_count": 2,
   "id": "af245b2b-4d33-4f80-9701-2e6cb9c66ccb",
   "metadata": {},
   "outputs": [],
   "source": [
    "# Calculations\n",
    "import pandas as pd\n",
    "import numpy as np"
   ]
  },
  {
   "cell_type": "code",
   "execution_count": 3,
   "id": "f0303c32-b862-4907-850b-942f174d9280",
   "metadata": {},
   "outputs": [],
   "source": [
    "# Base URL\n",
    "#url = 'https://api.fiscaldata.treasury.gov/services/api/fiscal_service'\n",
    "url = 'https://api.bls.gov/publicAPI/v2/timeseries/data/'"
   ]
  },
  {
   "cell_type": "code",
   "execution_count": 8,
   "id": "f3358b65-d2d3-43c3-8b0c-2eec75f7b7f5",
   "metadata": {},
   "outputs": [
    {
     "name": "stdout",
     "output_type": "stream",
     "text": [
      "https://api.bls.gov/publicAPI/v2/timeseries/data/LAUIM371674000000004?startyear=2022&endyear=2024&catalog=false\n"
     ]
    }
   ],
   "source": [
    "num_unem_nc = 'LAUIM371674000000004'\n",
    "start_year = 2015\n",
    "end_year = 2024\n",
    "\n",
    "nc_query_url = url + num_unem_nc + '?startyear=' + str(start_year) + '&endyear=' + str(end_year) + '&catalog=false'\n",
    "\n",
    "\n",
    "print(nc_query_url)"
   ]
  },
  {
   "cell_type": "code",
   "execution_count": 9,
   "id": "98887389-ca25-490b-85d5-ee126e70585d",
   "metadata": {},
   "outputs": [],
   "source": [
    "nc_response = requests.get(nc_query_url)\n",
    "nc_response_json = nc_response.json()"
   ]
  },
  {
   "cell_type": "code",
   "execution_count": 10,
   "id": "d0be7de1-4e08-45e9-bdf2-d5b680f88d9e",
   "metadata": {},
   "outputs": [
    {
     "name": "stdout",
     "output_type": "stream",
     "text": [
      "{'Results': {'series': [{'data': [{'footnotes': [{'code': 'P',\n",
      "                                                  'text': 'Preliminary.'}],\n",
      "                                   'latest': 'true',\n",
      "                                   'period': 'M01',\n",
      "                                   'periodName': 'January',\n",
      "                                   'value': '43931',\n",
      "                                   'year': '2024'},\n",
      "                                  {'footnotes': [{'code': 'P',\n",
      "                                                  'text': 'Preliminary.'}],\n",
      "                                   'period': 'M12',\n",
      "                                   'periodName': 'December',\n",
      "                                   'value': '38829',\n",
      "                                   'year': '2023'},\n",
      "                                  {'footnotes': [{}],\n",
      "                                   'period': 'M11',\n",
      "                                   'periodName': 'November',\n",
      "                                   'value': '40436',\n",
      "                                   'year': '2023'},\n",
      "                                  {'footnotes': [{}],\n",
      "                                   'period': 'M10',\n",
      "                                   'periodName': 'October',\n",
      "                                   'value': '40193',\n",
      "                                   'year': '2023'},\n",
      "                                  {'footnotes': [{}],\n",
      "                                   'period': 'M09',\n",
      "                                   'periodName': 'September',\n",
      "                                   'value': '38539',\n",
      "                                   'year': '2023'},\n",
      "                                  {'footnotes': [{}],\n",
      "                                   'period': 'M08',\n",
      "                                   'periodName': 'August',\n",
      "                                   'value': '42831',\n",
      "                                   'year': '2023'},\n",
      "                                  {'footnotes': [{}],\n",
      "                                   'period': 'M07',\n",
      "                                   'periodName': 'July',\n",
      "                                   'value': '42362',\n",
      "                                   'year': '2023'},\n",
      "                                  {'footnotes': [{}],\n",
      "                                   'period': 'M06',\n",
      "                                   'periodName': 'June',\n",
      "                                   'value': '42380',\n",
      "                                   'year': '2023'},\n",
      "                                  {'footnotes': [{}],\n",
      "                                   'period': 'M05',\n",
      "                                   'periodName': 'May',\n",
      "                                   'value': '40271',\n",
      "                                   'year': '2023'},\n",
      "                                  {'footnotes': [{}],\n",
      "                                   'period': 'M04',\n",
      "                                   'periodName': 'April',\n",
      "                                   'value': '37094',\n",
      "                                   'year': '2023'},\n",
      "                                  {'footnotes': [{}],\n",
      "                                   'period': 'M03',\n",
      "                                   'periodName': 'March',\n",
      "                                   'value': '42518',\n",
      "                                   'year': '2023'},\n",
      "                                  {'footnotes': [{}],\n",
      "                                   'period': 'M02',\n",
      "                                   'periodName': 'February',\n",
      "                                   'value': '42192',\n",
      "                                   'year': '2023'},\n",
      "                                  {'footnotes': [{}],\n",
      "                                   'period': 'M01',\n",
      "                                   'periodName': 'January',\n",
      "                                   'value': '43159',\n",
      "                                   'year': '2023'},\n",
      "                                  {'footnotes': [{}],\n",
      "                                   'period': 'M12',\n",
      "                                   'periodName': 'December',\n",
      "                                   'value': '37324',\n",
      "                                   'year': '2022'},\n",
      "                                  {'footnotes': [{}],\n",
      "                                   'period': 'M11',\n",
      "                                   'periodName': 'November',\n",
      "                                   'value': '41559',\n",
      "                                   'year': '2022'},\n",
      "                                  {'footnotes': [{}],\n",
      "                                   'period': 'M10',\n",
      "                                   'periodName': 'October',\n",
      "                                   'value': '42834',\n",
      "                                   'year': '2022'},\n",
      "                                  {'footnotes': [{}],\n",
      "                                   'period': 'M09',\n",
      "                                   'periodName': 'September',\n",
      "                                   'value': '40038',\n",
      "                                   'year': '2022'},\n",
      "                                  {'footnotes': [{}],\n",
      "                                   'period': 'M08',\n",
      "                                   'periodName': 'August',\n",
      "                                   'value': '48005',\n",
      "                                   'year': '2022'},\n",
      "                                  {'footnotes': [{}],\n",
      "                                   'period': 'M07',\n",
      "                                   'periodName': 'July',\n",
      "                                   'value': '45178',\n",
      "                                   'year': '2022'},\n",
      "                                  {'footnotes': [{}],\n",
      "                                   'period': 'M06',\n",
      "                                   'periodName': 'June',\n",
      "                                   'value': '45660',\n",
      "                                   'year': '2022'},\n",
      "                                  {'footnotes': [{}],\n",
      "                                   'period': 'M05',\n",
      "                                   'periodName': 'May',\n",
      "                                   'value': '40655',\n",
      "                                   'year': '2022'},\n",
      "                                  {'footnotes': [{}],\n",
      "                                   'period': 'M04',\n",
      "                                   'periodName': 'April',\n",
      "                                   'value': '37126',\n",
      "                                   'year': '2022'},\n",
      "                                  {'footnotes': [{}],\n",
      "                                   'period': 'M03',\n",
      "                                   'periodName': 'March',\n",
      "                                   'value': '40326',\n",
      "                                   'year': '2022'},\n",
      "                                  {'footnotes': [{}],\n",
      "                                   'period': 'M02',\n",
      "                                   'periodName': 'February',\n",
      "                                   'value': '42792',\n",
      "                                   'year': '2022'},\n",
      "                                  {'footnotes': [{}],\n",
      "                                   'period': 'M01',\n",
      "                                   'periodName': 'January',\n",
      "                                   'value': '44741',\n",
      "                                   'year': '2022'}],\n",
      "                         'seriesID': 'LAUIM371674000000004'}]},\n",
      " 'message': [],\n",
      " 'responseTime': 187,\n",
      " 'status': 'REQUEST_SUCCEEDED'}\n"
     ]
    }
   ],
   "source": [
    "pprint (nc_response_json)"
   ]
  },
  {
   "cell_type": "code",
   "execution_count": null,
   "id": "b9e00a65-a2f4-49da-8410-6e53eaf47192",
   "metadata": {},
   "outputs": [],
   "source": []
  }
 ],
 "metadata": {
  "kernelspec": {
   "display_name": "Python 3 (ipykernel)",
   "language": "python",
   "name": "python3"
  },
  "language_info": {
   "codemirror_mode": {
    "name": "ipython",
    "version": 3
   },
   "file_extension": ".py",
   "mimetype": "text/x-python",
   "name": "python",
   "nbconvert_exporter": "python",
   "pygments_lexer": "ipython3",
   "version": "3.11.5"
  }
 },
 "nbformat": 4,
 "nbformat_minor": 5
}
